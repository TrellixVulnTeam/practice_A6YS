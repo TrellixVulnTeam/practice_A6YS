{
 "cells": [
  {
   "cell_type": "code",
   "execution_count": 1,
   "metadata": {
    "collapsed": true
   },
   "outputs": [],
   "source": [
    "import numpy as np\n",
    "import pandas as pd\n",
    "\n",
    "from pandas import Series, DataFrame\n",
    "\n",
    "from numpy.random import randn"
   ]
  },
  {
   "cell_type": "code",
   "execution_count": 2,
   "metadata": {
    "collapsed": false
   },
   "outputs": [
    {
     "data": {
      "text/plain": [
       "A    1\n",
       "B    2\n",
       "C    3\n",
       "D    4\n",
       "dtype: int64"
      ]
     },
     "execution_count": 2,
     "metadata": {},
     "output_type": "execute_result"
    }
   ],
   "source": [
    "ser1 = Series([1,2,3,4],index=['A','B','C','D'])\n",
    "ser1"
   ]
  },
  {
   "cell_type": "code",
   "execution_count": 3,
   "metadata": {
    "collapsed": false
   },
   "outputs": [
    {
     "data": {
      "text/plain": [
       "A    1.0\n",
       "B    2.0\n",
       "C    3.0\n",
       "D    4.0\n",
       "E    NaN\n",
       "F    NaN\n",
       "dtype: float64"
      ]
     },
     "execution_count": 3,
     "metadata": {},
     "output_type": "execute_result"
    }
   ],
   "source": [
    "ser2 = ser1.reindex(['A','B','C','D','E','F'])\n",
    "ser2"
   ]
  },
  {
   "cell_type": "code",
   "execution_count": 4,
   "metadata": {
    "collapsed": false
   },
   "outputs": [
    {
     "data": {
      "text/plain": [
       "A    1.0\n",
       "B    2.0\n",
       "C    3.0\n",
       "D    4.0\n",
       "E    NaN\n",
       "F    NaN\n",
       "G    0.0\n",
       "dtype: float64"
      ]
     },
     "execution_count": 4,
     "metadata": {},
     "output_type": "execute_result"
    }
   ],
   "source": [
    "ser2.reindex(['A','B','C','D','E','F','G'],fill_value=0)"
   ]
  },
  {
   "cell_type": "code",
   "execution_count": 5,
   "metadata": {
    "collapsed": false
   },
   "outputs": [
    {
     "data": {
      "text/plain": [
       "0        USA\n",
       "5     Mexico\n",
       "10    Canada\n",
       "dtype: object"
      ]
     },
     "execution_count": 5,
     "metadata": {},
     "output_type": "execute_result"
    }
   ],
   "source": [
    "ser3 = Series(['USA','Mexico','Canada'],index=[0,5,10])\n",
    "ser3"
   ]
  },
  {
   "cell_type": "code",
   "execution_count": 6,
   "metadata": {
    "collapsed": false
   },
   "outputs": [
    {
     "data": {
      "text/plain": [
       "[0, 1, 2, 3, 4, 5, 6, 7, 8, 9, 10, 11, 12, 13, 14]"
      ]
     },
     "execution_count": 6,
     "metadata": {},
     "output_type": "execute_result"
    }
   ],
   "source": [
    "ranger = range(15)\n",
    "ranger"
   ]
  },
  {
   "cell_type": "code",
   "execution_count": 7,
   "metadata": {
    "collapsed": false
   },
   "outputs": [
    {
     "data": {
      "text/plain": [
       "0        USA\n",
       "1        USA\n",
       "2        USA\n",
       "3        USA\n",
       "4        USA\n",
       "5     Mexico\n",
       "6     Mexico\n",
       "7     Mexico\n",
       "8     Mexico\n",
       "9     Mexico\n",
       "10    Canada\n",
       "11    Canada\n",
       "12    Canada\n",
       "13    Canada\n",
       "14    Canada\n",
       "dtype: object"
      ]
     },
     "execution_count": 7,
     "metadata": {},
     "output_type": "execute_result"
    }
   ],
   "source": [
    "ser3.reindex(ranger,method='ffill')"
   ]
  },
  {
   "cell_type": "code",
   "execution_count": 10,
   "metadata": {
    "collapsed": false
   },
   "outputs": [
    {
     "data": {
      "text/html": [
       "<div>\n",
       "<table border=\"1\" class=\"dataframe\">\n",
       "  <thead>\n",
       "    <tr style=\"text-align: right;\">\n",
       "      <th></th>\n",
       "      <th>col1</th>\n",
       "      <th>col2</th>\n",
       "      <th>col3</th>\n",
       "      <th>col4</th>\n",
       "      <th>col5</th>\n",
       "    </tr>\n",
       "  </thead>\n",
       "  <tbody>\n",
       "    <tr>\n",
       "      <th>A</th>\n",
       "      <td>1.179456</td>\n",
       "      <td>-2.284960</td>\n",
       "      <td>0.053496</td>\n",
       "      <td>0.147991</td>\n",
       "      <td>-0.338078</td>\n",
       "    </tr>\n",
       "    <tr>\n",
       "      <th>B</th>\n",
       "      <td>-0.326035</td>\n",
       "      <td>-1.232309</td>\n",
       "      <td>-0.542697</td>\n",
       "      <td>0.136072</td>\n",
       "      <td>-0.214599</td>\n",
       "    </tr>\n",
       "    <tr>\n",
       "      <th>D</th>\n",
       "      <td>0.640329</td>\n",
       "      <td>-0.703581</td>\n",
       "      <td>0.137902</td>\n",
       "      <td>-0.486448</td>\n",
       "      <td>0.432036</td>\n",
       "    </tr>\n",
       "    <tr>\n",
       "      <th>E</th>\n",
       "      <td>0.149137</td>\n",
       "      <td>0.254724</td>\n",
       "      <td>0.555428</td>\n",
       "      <td>-1.150349</td>\n",
       "      <td>-0.688496</td>\n",
       "    </tr>\n",
       "    <tr>\n",
       "      <th>F</th>\n",
       "      <td>-1.447940</td>\n",
       "      <td>0.839108</td>\n",
       "      <td>-1.096375</td>\n",
       "      <td>1.568837</td>\n",
       "      <td>-1.070863</td>\n",
       "    </tr>\n",
       "  </tbody>\n",
       "</table>\n",
       "</div>"
      ],
      "text/plain": [
       "       col1      col2      col3      col4      col5\n",
       "A  1.179456 -2.284960  0.053496  0.147991 -0.338078\n",
       "B -0.326035 -1.232309 -0.542697  0.136072 -0.214599\n",
       "D  0.640329 -0.703581  0.137902 -0.486448  0.432036\n",
       "E  0.149137  0.254724  0.555428 -1.150349 -0.688496\n",
       "F -1.447940  0.839108 -1.096375  1.568837 -1.070863"
      ]
     },
     "execution_count": 10,
     "metadata": {},
     "output_type": "execute_result"
    }
   ],
   "source": [
    "dframe = DataFrame(randn(25).reshape((5,5)),index=['A','B','D','E','F'],\n",
    "                                                  columns=['col1','col2','col3','col4','col5'])\n",
    "dframe"
   ]
  },
  {
   "cell_type": "code",
   "execution_count": 11,
   "metadata": {
    "collapsed": true
   },
   "outputs": [],
   "source": [
    "dframe2 = dframe.reindex(['A','B','C','D','E','F'])"
   ]
  },
  {
   "cell_type": "code",
   "execution_count": 12,
   "metadata": {
    "collapsed": false
   },
   "outputs": [
    {
     "data": {
      "text/html": [
       "<div>\n",
       "<table border=\"1\" class=\"dataframe\">\n",
       "  <thead>\n",
       "    <tr style=\"text-align: right;\">\n",
       "      <th></th>\n",
       "      <th>col1</th>\n",
       "      <th>col2</th>\n",
       "      <th>col3</th>\n",
       "      <th>col4</th>\n",
       "      <th>col5</th>\n",
       "    </tr>\n",
       "  </thead>\n",
       "  <tbody>\n",
       "    <tr>\n",
       "      <th>A</th>\n",
       "      <td>1.179456</td>\n",
       "      <td>-2.284960</td>\n",
       "      <td>0.053496</td>\n",
       "      <td>0.147991</td>\n",
       "      <td>-0.338078</td>\n",
       "    </tr>\n",
       "    <tr>\n",
       "      <th>B</th>\n",
       "      <td>-0.326035</td>\n",
       "      <td>-1.232309</td>\n",
       "      <td>-0.542697</td>\n",
       "      <td>0.136072</td>\n",
       "      <td>-0.214599</td>\n",
       "    </tr>\n",
       "    <tr>\n",
       "      <th>C</th>\n",
       "      <td>NaN</td>\n",
       "      <td>NaN</td>\n",
       "      <td>NaN</td>\n",
       "      <td>NaN</td>\n",
       "      <td>NaN</td>\n",
       "    </tr>\n",
       "    <tr>\n",
       "      <th>D</th>\n",
       "      <td>0.640329</td>\n",
       "      <td>-0.703581</td>\n",
       "      <td>0.137902</td>\n",
       "      <td>-0.486448</td>\n",
       "      <td>0.432036</td>\n",
       "    </tr>\n",
       "    <tr>\n",
       "      <th>E</th>\n",
       "      <td>0.149137</td>\n",
       "      <td>0.254724</td>\n",
       "      <td>0.555428</td>\n",
       "      <td>-1.150349</td>\n",
       "      <td>-0.688496</td>\n",
       "    </tr>\n",
       "    <tr>\n",
       "      <th>F</th>\n",
       "      <td>-1.447940</td>\n",
       "      <td>0.839108</td>\n",
       "      <td>-1.096375</td>\n",
       "      <td>1.568837</td>\n",
       "      <td>-1.070863</td>\n",
       "    </tr>\n",
       "  </tbody>\n",
       "</table>\n",
       "</div>"
      ],
      "text/plain": [
       "       col1      col2      col3      col4      col5\n",
       "A  1.179456 -2.284960  0.053496  0.147991 -0.338078\n",
       "B -0.326035 -1.232309 -0.542697  0.136072 -0.214599\n",
       "C       NaN       NaN       NaN       NaN       NaN\n",
       "D  0.640329 -0.703581  0.137902 -0.486448  0.432036\n",
       "E  0.149137  0.254724  0.555428 -1.150349 -0.688496\n",
       "F -1.447940  0.839108 -1.096375  1.568837 -1.070863"
      ]
     },
     "execution_count": 12,
     "metadata": {},
     "output_type": "execute_result"
    }
   ],
   "source": [
    "dframe2"
   ]
  },
  {
   "cell_type": "code",
   "execution_count": 13,
   "metadata": {
    "collapsed": true
   },
   "outputs": [],
   "source": [
    "new_columns = ['col1','col2','col3','col4','col5','col6']"
   ]
  },
  {
   "cell_type": "code",
   "execution_count": 14,
   "metadata": {
    "collapsed": false
   },
   "outputs": [
    {
     "data": {
      "text/html": [
       "<div>\n",
       "<table border=\"1\" class=\"dataframe\">\n",
       "  <thead>\n",
       "    <tr style=\"text-align: right;\">\n",
       "      <th></th>\n",
       "      <th>col1</th>\n",
       "      <th>col2</th>\n",
       "      <th>col3</th>\n",
       "      <th>col4</th>\n",
       "      <th>col5</th>\n",
       "      <th>col6</th>\n",
       "    </tr>\n",
       "  </thead>\n",
       "  <tbody>\n",
       "    <tr>\n",
       "      <th>A</th>\n",
       "      <td>1.179456</td>\n",
       "      <td>-2.284960</td>\n",
       "      <td>0.053496</td>\n",
       "      <td>0.147991</td>\n",
       "      <td>-0.338078</td>\n",
       "      <td>NaN</td>\n",
       "    </tr>\n",
       "    <tr>\n",
       "      <th>B</th>\n",
       "      <td>-0.326035</td>\n",
       "      <td>-1.232309</td>\n",
       "      <td>-0.542697</td>\n",
       "      <td>0.136072</td>\n",
       "      <td>-0.214599</td>\n",
       "      <td>NaN</td>\n",
       "    </tr>\n",
       "    <tr>\n",
       "      <th>C</th>\n",
       "      <td>NaN</td>\n",
       "      <td>NaN</td>\n",
       "      <td>NaN</td>\n",
       "      <td>NaN</td>\n",
       "      <td>NaN</td>\n",
       "      <td>NaN</td>\n",
       "    </tr>\n",
       "    <tr>\n",
       "      <th>D</th>\n",
       "      <td>0.640329</td>\n",
       "      <td>-0.703581</td>\n",
       "      <td>0.137902</td>\n",
       "      <td>-0.486448</td>\n",
       "      <td>0.432036</td>\n",
       "      <td>NaN</td>\n",
       "    </tr>\n",
       "    <tr>\n",
       "      <th>E</th>\n",
       "      <td>0.149137</td>\n",
       "      <td>0.254724</td>\n",
       "      <td>0.555428</td>\n",
       "      <td>-1.150349</td>\n",
       "      <td>-0.688496</td>\n",
       "      <td>NaN</td>\n",
       "    </tr>\n",
       "    <tr>\n",
       "      <th>F</th>\n",
       "      <td>-1.447940</td>\n",
       "      <td>0.839108</td>\n",
       "      <td>-1.096375</td>\n",
       "      <td>1.568837</td>\n",
       "      <td>-1.070863</td>\n",
       "      <td>NaN</td>\n",
       "    </tr>\n",
       "  </tbody>\n",
       "</table>\n",
       "</div>"
      ],
      "text/plain": [
       "       col1      col2      col3      col4      col5  col6\n",
       "A  1.179456 -2.284960  0.053496  0.147991 -0.338078   NaN\n",
       "B -0.326035 -1.232309 -0.542697  0.136072 -0.214599   NaN\n",
       "C       NaN       NaN       NaN       NaN       NaN   NaN\n",
       "D  0.640329 -0.703581  0.137902 -0.486448  0.432036   NaN\n",
       "E  0.149137  0.254724  0.555428 -1.150349 -0.688496   NaN\n",
       "F -1.447940  0.839108 -1.096375  1.568837 -1.070863   NaN"
      ]
     },
     "execution_count": 14,
     "metadata": {},
     "output_type": "execute_result"
    }
   ],
   "source": [
    "dframe2.reindex(columns=new_columns)"
   ]
  },
  {
   "cell_type": "code",
   "execution_count": 15,
   "metadata": {
    "collapsed": false
   },
   "outputs": [
    {
     "data": {
      "text/html": [
       "<div>\n",
       "<table border=\"1\" class=\"dataframe\">\n",
       "  <thead>\n",
       "    <tr style=\"text-align: right;\">\n",
       "      <th></th>\n",
       "      <th>col1</th>\n",
       "      <th>col2</th>\n",
       "      <th>col3</th>\n",
       "      <th>col4</th>\n",
       "      <th>col5</th>\n",
       "    </tr>\n",
       "  </thead>\n",
       "  <tbody>\n",
       "    <tr>\n",
       "      <th>A</th>\n",
       "      <td>1.179456</td>\n",
       "      <td>-2.284960</td>\n",
       "      <td>0.053496</td>\n",
       "      <td>0.147991</td>\n",
       "      <td>-0.338078</td>\n",
       "    </tr>\n",
       "    <tr>\n",
       "      <th>B</th>\n",
       "      <td>-0.326035</td>\n",
       "      <td>-1.232309</td>\n",
       "      <td>-0.542697</td>\n",
       "      <td>0.136072</td>\n",
       "      <td>-0.214599</td>\n",
       "    </tr>\n",
       "    <tr>\n",
       "      <th>D</th>\n",
       "      <td>0.640329</td>\n",
       "      <td>-0.703581</td>\n",
       "      <td>0.137902</td>\n",
       "      <td>-0.486448</td>\n",
       "      <td>0.432036</td>\n",
       "    </tr>\n",
       "    <tr>\n",
       "      <th>E</th>\n",
       "      <td>0.149137</td>\n",
       "      <td>0.254724</td>\n",
       "      <td>0.555428</td>\n",
       "      <td>-1.150349</td>\n",
       "      <td>-0.688496</td>\n",
       "    </tr>\n",
       "    <tr>\n",
       "      <th>F</th>\n",
       "      <td>-1.447940</td>\n",
       "      <td>0.839108</td>\n",
       "      <td>-1.096375</td>\n",
       "      <td>1.568837</td>\n",
       "      <td>-1.070863</td>\n",
       "    </tr>\n",
       "  </tbody>\n",
       "</table>\n",
       "</div>"
      ],
      "text/plain": [
       "       col1      col2      col3      col4      col5\n",
       "A  1.179456 -2.284960  0.053496  0.147991 -0.338078\n",
       "B -0.326035 -1.232309 -0.542697  0.136072 -0.214599\n",
       "D  0.640329 -0.703581  0.137902 -0.486448  0.432036\n",
       "E  0.149137  0.254724  0.555428 -1.150349 -0.688496\n",
       "F -1.447940  0.839108 -1.096375  1.568837 -1.070863"
      ]
     },
     "execution_count": 15,
     "metadata": {},
     "output_type": "execute_result"
    }
   ],
   "source": [
    "dframe"
   ]
  },
  {
   "cell_type": "code",
   "execution_count": 16,
   "metadata": {
    "collapsed": false
   },
   "outputs": [
    {
     "data": {
      "text/html": [
       "<div>\n",
       "<table border=\"1\" class=\"dataframe\">\n",
       "  <thead>\n",
       "    <tr style=\"text-align: right;\">\n",
       "      <th></th>\n",
       "      <th>col1</th>\n",
       "      <th>col2</th>\n",
       "      <th>col3</th>\n",
       "      <th>col4</th>\n",
       "      <th>col5</th>\n",
       "      <th>col6</th>\n",
       "    </tr>\n",
       "  </thead>\n",
       "  <tbody>\n",
       "    <tr>\n",
       "      <th>A</th>\n",
       "      <td>1.179456</td>\n",
       "      <td>-2.284960</td>\n",
       "      <td>0.053496</td>\n",
       "      <td>0.147991</td>\n",
       "      <td>-0.338078</td>\n",
       "      <td>NaN</td>\n",
       "    </tr>\n",
       "    <tr>\n",
       "      <th>B</th>\n",
       "      <td>-0.326035</td>\n",
       "      <td>-1.232309</td>\n",
       "      <td>-0.542697</td>\n",
       "      <td>0.136072</td>\n",
       "      <td>-0.214599</td>\n",
       "      <td>NaN</td>\n",
       "    </tr>\n",
       "    <tr>\n",
       "      <th>C</th>\n",
       "      <td>NaN</td>\n",
       "      <td>NaN</td>\n",
       "      <td>NaN</td>\n",
       "      <td>NaN</td>\n",
       "      <td>NaN</td>\n",
       "      <td>NaN</td>\n",
       "    </tr>\n",
       "    <tr>\n",
       "      <th>D</th>\n",
       "      <td>0.640329</td>\n",
       "      <td>-0.703581</td>\n",
       "      <td>0.137902</td>\n",
       "      <td>-0.486448</td>\n",
       "      <td>0.432036</td>\n",
       "      <td>NaN</td>\n",
       "    </tr>\n",
       "    <tr>\n",
       "      <th>E</th>\n",
       "      <td>0.149137</td>\n",
       "      <td>0.254724</td>\n",
       "      <td>0.555428</td>\n",
       "      <td>-1.150349</td>\n",
       "      <td>-0.688496</td>\n",
       "      <td>NaN</td>\n",
       "    </tr>\n",
       "    <tr>\n",
       "      <th>F</th>\n",
       "      <td>-1.447940</td>\n",
       "      <td>0.839108</td>\n",
       "      <td>-1.096375</td>\n",
       "      <td>1.568837</td>\n",
       "      <td>-1.070863</td>\n",
       "      <td>NaN</td>\n",
       "    </tr>\n",
       "  </tbody>\n",
       "</table>\n",
       "</div>"
      ],
      "text/plain": [
       "       col1      col2      col3      col4      col5  col6\n",
       "A  1.179456 -2.284960  0.053496  0.147991 -0.338078   NaN\n",
       "B -0.326035 -1.232309 -0.542697  0.136072 -0.214599   NaN\n",
       "C       NaN       NaN       NaN       NaN       NaN   NaN\n",
       "D  0.640329 -0.703581  0.137902 -0.486448  0.432036   NaN\n",
       "E  0.149137  0.254724  0.555428 -1.150349 -0.688496   NaN\n",
       "F -1.447940  0.839108 -1.096375  1.568837 -1.070863   NaN"
      ]
     },
     "execution_count": 16,
     "metadata": {},
     "output_type": "execute_result"
    }
   ],
   "source": [
    "dframe.ix[['A','B','C','D','E','F'],new_columns]"
   ]
  },
  {
   "cell_type": "code",
   "execution_count": null,
   "metadata": {
    "collapsed": true
   },
   "outputs": [],
   "source": []
  }
 ],
 "metadata": {
  "kernelspec": {
   "display_name": "Python 2",
   "language": "python",
   "name": "python2"
  },
  "language_info": {
   "codemirror_mode": {
    "name": "ipython",
    "version": 2
   },
   "file_extension": ".py",
   "mimetype": "text/x-python",
   "name": "python",
   "nbconvert_exporter": "python",
   "pygments_lexer": "ipython2",
   "version": "2.7.11"
  }
 },
 "nbformat": 4,
 "nbformat_minor": 0
}
